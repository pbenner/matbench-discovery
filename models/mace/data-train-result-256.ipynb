{
 "cells": [
  {
   "cell_type": "markdown",
   "metadata": {},
   "source": [
    "### Imports\n",
    "---"
   ]
  },
  {
   "cell_type": "code",
   "execution_count": null,
   "metadata": {},
   "outputs": [],
   "source": [
    "import ast\n",
    "import numpy as np\n",
    "import json\n",
    "import torch\n",
    "import mace\n",
    "import matplotlib\n",
    "import matplotlib.pyplot as plt\n",
    "import scipy\n",
    "\n",
    "from tqdm import tqdm\n",
    "\n",
    "from mace.tools import torch_geometric\n",
    "from mace.data  import HDF5Dataset"
   ]
  },
  {
   "cell_type": "markdown",
   "metadata": {},
   "source": [
    "---\n",
    "### Definitions\n",
    "---"
   ]
  },
  {
   "cell_type": "code",
   "execution_count": null,
   "metadata": {},
   "outputs": [],
   "source": [
    "device = 'cuda:3'\n",
    "model_path = 'data-train-result-256/MACE_MPtrj_2022.9.model'"
   ]
  },
  {
   "cell_type": "markdown",
   "metadata": {},
   "source": [
    "---\n",
    "### Load data\n",
    "---"
   ]
  },
  {
   "cell_type": "code",
   "execution_count": null,
   "metadata": {},
   "outputs": [],
   "source": [
    "torch.set_default_dtype(torch.float64)"
   ]
  },
  {
   "cell_type": "code",
   "execution_count": null,
   "metadata": {},
   "outputs": [],
   "source": [
    "with open('data-train-preprocessed/statistics.json', \"r\") as f:\n",
    "    statistics = json.load(f)\n",
    "\n",
    "zs_list = ast.literal_eval(statistics[\"atomic_numbers\"])\n",
    "z_table = mace.tools.get_atomic_number_table_from_zs(zs_list)"
   ]
  },
  {
   "cell_type": "code",
   "execution_count": null,
   "metadata": {},
   "outputs": [],
   "source": [
    "model = torch.load(model_path)\n",
    "model = model.to(device)"
   ]
  },
  {
   "cell_type": "code",
   "execution_count": null,
   "metadata": {},
   "outputs": [],
   "source": [
    "train_set = HDF5Dataset(\n",
    "    'data-train-preprocessed/train.h5', r_max=4.5, z_table = z_table,\n",
    ")\n",
    "valid_set = HDF5Dataset(\n",
    "    'data-train-preprocessed/valid.h5', r_max=4.5, z_table = z_table,\n",
    ")"
   ]
  },
  {
   "cell_type": "code",
   "execution_count": null,
   "metadata": {},
   "outputs": [],
   "source": [
    "train_loader = torch_geometric.dataloader.DataLoader(\n",
    "    dataset=train_set,\n",
    "    batch_size=128,   \n",
    "    shuffle=False,\n",
    "    drop_last=False,\n",
    "    pin_memory=False,\n",
    "    num_workers=1,\n",
    ")\n",
    "valid_loader = torch_geometric.dataloader.DataLoader(\n",
    "    dataset=valid_set,\n",
    "    batch_size=128,   \n",
    "    shuffle=False,\n",
    "    drop_last=False,\n",
    "    pin_memory=False,\n",
    "    num_workers=1,\n",
    ")"
   ]
  },
  {
   "cell_type": "markdown",
   "metadata": {},
   "source": [
    "---\n",
    "### Collect groundtruth and predictions\n",
    "---"
   ]
  },
  {
   "cell_type": "code",
   "execution_count": null,
   "metadata": {},
   "outputs": [],
   "source": [
    "energy_true = []\n",
    "energy_pred = []\n",
    "\n",
    "forces_true = [[], [], []]\n",
    "forces_pred = [[], [], []]\n",
    "\n",
    "stress_true = [[], [], [], [], [], [], [], [], []]\n",
    "stress_pred = [[], [], [], [], [], [], [], [], []]\n",
    "\n",
    "# n = 100\n",
    "n = len(valid_loader)\n",
    "\n",
    "for i, batch in tqdm(enumerate(valid_loader), total=n):\n",
    "    if i >= n:\n",
    "        break\n",
    "\n",
    "    batch = batch.to(device)\n",
    "    batch_dict = batch.to_dict()\n",
    "    output = model(\n",
    "        batch_dict,\n",
    "        training=False,\n",
    "        compute_force=True,\n",
    "        compute_virials=True,\n",
    "        compute_stress=True,\n",
    "    )\n",
    "\n",
    "    energy_true.extend([ e.item() for e in batch ['energy'] ])\n",
    "    energy_pred.extend([ e.item() for e in output['energy'] ])\n",
    "\n",
    "    for i in range(3):\n",
    "\n",
    "        forces_true[i].extend([ f[i].item() for f in batch ['forces'] ])\n",
    "        forces_pred[i].extend([ f[i].item() for f in output['forces'] ])\n",
    "\n",
    "    for i in range(3):\n",
    "\n",
    "        for j in range(3):\n",
    "\n",
    "            k = i*3 + j\n",
    "\n",
    "            stress_true[k].extend([ s[i][j].item() for s in batch ['stress'] ])\n",
    "            stress_pred[k].extend([ s[i][j].item() for s in output['stress'] ])\n"
   ]
  },
  {
   "cell_type": "markdown",
   "metadata": {},
   "source": [
    "---\n",
    "### Energy parity plot\n",
    "---"
   ]
  },
  {
   "cell_type": "code",
   "execution_count": null,
   "metadata": {},
   "outputs": [],
   "source": [
    "title = r'Energy'\n",
    "\n",
    "fig, ax = plt.subplots(1, 1, figsize=(4, 3))\n",
    "fig.tight_layout()\n",
    "\n",
    "xy = np.vstack([energy_true, energy_pred])\n",
    "z = scipy.stats.gaussian_kde(xy)(xy)\n",
    "\n",
    "ax.scatter(energy_true, energy_pred, c=z, s=3, edgecolor=None, norm=matplotlib.colors.LogNorm())\n",
    "ax.axline((0,0), slope=1)\n",
    "ax.set_title(title)\n",
    "ax.set_xlabel(r'MP energy ($meV$)')\n",
    "ax.set_ylabel(r'Predicted energy ($meV$)')\n",
    "\n",
    "plt.show()"
   ]
  },
  {
   "cell_type": "markdown",
   "metadata": {},
   "source": [
    "---\n",
    "### Forces parity plot\n",
    "---"
   ]
  },
  {
   "cell_type": "code",
   "execution_count": null,
   "metadata": {},
   "outputs": [],
   "source": [
    "titles = [r'$x$', r'$y$', r'$z$']\n",
    "\n",
    "fig, axs = plt.subplots(1, 3, figsize=(3, 8))\n",
    "fig.tight_layout()\n",
    "\n",
    "for i, ax in enumerate(axs.flatten()):\n",
    "\n",
    "    xy = np.vstack([forces_true[i], forces_pred[i]])\n",
    "    z = scipy.stats.gaussian_kde(xy)(xy)\n",
    "\n",
    "    ax.scatter(forces_true[i], forces_pred[i], c=z, s=3, edgecolor=None, norm=matplotlib.colors.LogNorm())\n",
    "    ax.axline((0,0), slope=1)\n",
    "    ax.set_title(titles[i])\n",
    "    ax.set_xlabel(r'MP force ($meV/A$)')\n",
    "    if i == 0:\n",
    "        ax.set_ylabel(r'Predicted force ($meV/A$)')\n",
    "\n",
    "plt.show()"
   ]
  },
  {
   "cell_type": "markdown",
   "metadata": {},
   "source": [
    "---\n",
    "### Stress parity plot\n",
    "---"
   ]
  },
  {
   "cell_type": "code",
   "execution_count": null,
   "metadata": {},
   "outputs": [],
   "source": [
    "titles = [r'$\\sigma_{11}$', r'$\\sigma_{12}$', r'$\\sigma_{13}$',\n",
    "          r'$\\sigma_{21}$', r'$\\sigma_{22}$', r'$\\sigma_{23}$',\n",
    "          r'$\\sigma_{31}$', r'$\\sigma_{32}$', r'$\\sigma_{33}$']\n",
    "\n",
    "fig, axs = plt.subplots(3, 3, figsize=(10, 8))\n",
    "fig.tight_layout()\n",
    "\n",
    "for i, ax in enumerate(axs.flatten()):\n",
    "\n",
    "    xy = np.vstack([stress_true[i], stress_pred[i]])\n",
    "    z = scipy.stats.gaussian_kde(xy)(xy)\n",
    "\n",
    "    ax.scatter(stress_true[i], stress_pred[i], c=z, s=3, edgecolor=None, norm=matplotlib.colors.LogNorm())\n",
    "    ax.axline((0,0), slope=1)\n",
    "    ax.set_title(titles[i])\n",
    "    if i in [6, 7, 8]:\n",
    "        ax.set_xlabel(r'MP stress ($eV/A^3$)')\n",
    "    if i in [0, 3, 6]:\n",
    "        ax.set_ylabel(r'Predicted stress ($eV/A^3$)')\n",
    "\n",
    "plt.show()"
   ]
  },
  {
   "cell_type": "code",
   "execution_count": null,
   "metadata": {},
   "outputs": [],
   "source": []
  }
 ],
 "metadata": {
  "kernelspec": {
   "display_name": "Python 3",
   "language": "python",
   "name": "python3"
  },
  "language_info": {
   "codemirror_mode": {
    "name": "ipython",
    "version": 3
   },
   "file_extension": ".py",
   "mimetype": "text/x-python",
   "name": "python",
   "nbconvert_exporter": "python",
   "pygments_lexer": "ipython3",
   "version": "3.10.8"
  }
 },
 "nbformat": 4,
 "nbformat_minor": 2
}
